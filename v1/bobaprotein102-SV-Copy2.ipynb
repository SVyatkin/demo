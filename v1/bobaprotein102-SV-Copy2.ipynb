{
 "cells": [
  {
   "cell_type": "code",
   "execution_count": 1,
   "metadata": {
    "_uuid": "48e89d30600c4bcf042baec2d10d44c3675e41d5"
   },
   "outputs": [],
   "source": [
    "import datetime\n",
    "import sys, os\n",
    "\n",
    "import cv2 as cv2\n",
    "import numpy as np\n",
    "import pandas as pd\n",
    "import matplotlib.pyplot as plt\n",
    "import skimage.transform"
   ]
  },
  {
   "cell_type": "code",
   "execution_count": null,
   "metadata": {
    "_uuid": "df7e692533b75ae17a7d28fda41721bb02d5bdca"
   },
   "outputs": [],
   "source": [
    "#!ls -ls /kaggle/input/protein-work-data-mm"
   ]
  },
  {
   "cell_type": "code",
   "execution_count": null,
   "metadata": {
    "_uuid": "11a87847769b504d44d2b712b71be35acb73bcb0"
   },
   "outputs": [],
   "source": [
    "#\n",
    "# 2018-12-03 Adding\n",
    "#   aug work in BobaDataGenerator\n",
    "#   common parameters in top \n",
    "#\n",
    "# 2018-12-07 Adding\n",
    "#   aug work by imgaug packet\n",
    "#   verify parameters\n",
    "#   debug mode (limit 5000 records)\n",
    "#   load model datas from extenal model\n",
    "#   parameters for cycling set of learning rate (lr)\n",
    "#\n",
    "#\n",
    "#\n",
    "######################################3"
   ]
  },
  {
   "cell_type": "code",
   "execution_count": 2,
   "metadata": {
    "_uuid": "b2863f54a5aa47cbb96e3f05b013c579eee9bb1e"
   },
   "outputs": [],
   "source": [
    "# Training parameters\n",
    "\n",
    "epochs        =   40                 ####### <-------- Epochs number\n",
    "initial_epoch =   1                 ####### >0 go to post-train for old train file\n",
    "\n",
    "# lr - learning rate (cyclic from scb0 to scbL for scbE=epochs start with 0)\n",
    "\n",
    "scb0          =   0.001     #### lr decreasing from scb0 to scbL\n",
    "scbL          =   1e-7\n",
    "\n",
    "scbE          =  60 #epochs+5  #### lr decreasing to scbL for scbE epochs\n",
    "scbS          =  0\n",
    "\n",
    "# Batch size\n",
    "#\n",
    "#  OOM - Ошибка связанная с нехваткой памяти на плате. Обычно начинают уменьшать batch_size 16, 8, 4\n",
    "#\n",
    "batch_size    =   1                 ####### <----------------------------------- batch size - minimum\n",
    "batch_size    =   4                 ####### <----------------------------------- batch size\n",
    "batch_size    =   8                 ####### <----------------------------------- batch size\n",
    "batch_size    =  16                 ####### <----------------------------------- batch size\n",
    "\n",
    "\n",
    "# Input size\n",
    "shape_out     = (256+256,256+256,4) ####### <----------------------------------- maximum  set\n",
    "shape_out     = (256+128,256+128,4) ####### <----------------------------------- interest set\n",
    "#shape_out     = (256+64, 256+64, 4) ####### <----------------------------------- minimum  set\n",
    "#shape_out     = (256,256,4)         ####### <----------------------------------- now's  set\n",
    "\n",
    "#shape_out     = (128,128,4)         ####### <----------------------------------- debug's  set\n",
    "#batch_size    =  128-16\n",
    "\n",
    "# Model parameters\n",
    "\n",
    "okeyRS        =  False  ####### <----------------------------------- model with Res-blocks\n",
    "\n",
    "levels        =  [32,64,128,256,512,1024] ####### <----------------------------------- interest levels (maximum?)\n",
    "levels        =  [32,64,128,256,512]      ####### <----------------------------------- common levels\n",
    "#levels        =  [32,64,128,256]          ####### <----------------------------------- minimum levels\n",
    "\n",
    "okeySE        =  False  ####### <----------------------------------- model with SE-blocks\n",
    "okeyDebug     =  False # 5000"
   ]
  },
  {
   "cell_type": "code",
   "execution_count": 3,
   "metadata": {
    "_uuid": "21afe9c59771e1de2072e2813021ceaaa9ba40d0"
   },
   "outputs": [],
   "source": [
    "#\n",
    "# Common directories\n",
    "#\n",
    "\n",
    "dirData   = '../input' # '../Data'\n",
    "dataTrain = os.path.join(dirData,'train')\n",
    "dataTest  = os.path.join(dirData,'test')\n",
    "dirTrain  = dataTrain\n",
    "dirTest   = dataTest\n",
    "\n",
    "dataSave  = '../working' #'../Work/V01'\n",
    "dirSave   = dataSave\n",
    "dirLoad   = dirSave\n",
    "\n",
    "#dirPython = '../Python'\n",
    "dirModels    = '../working'\n",
    "#dirModelLoad = '/kaggle/input/protein-work-data'\n",
    "dirModelLoad = '../input/protein-work-data-mm1'\n",
    "#dirResul  = '../Result'\n",
    "#dirLogs   = '../Logs'"
   ]
  },
  {
   "cell_type": "code",
   "execution_count": 4,
   "metadata": {
    "_uuid": "56005f4cc6413fd0722adae99fcce3e737427c12"
   },
   "outputs": [],
   "source": [
    "assert os.path.exists(dirData),  'not found directory dirData'\n",
    "assert os.path.exists(dirTrain), 'not found directory dirTrain'\n",
    "assert os.path.exists(dirTest),  'not found directory dirTest'\n",
    "\n",
    "assert os.path.exists(dirSave), 'not found directory dirSave'\n",
    "assert os.path.exists(dirLoad), 'not found directory dirLoad'\n",
    "\n",
    "assert os.path.exists(dirModels),    'not found directory dirModels'\n",
    "assert os.path.exists(dirModelLoad), 'not found directory dirModelLoad'\n",
    "\n",
    "assert epochs>initial_epoch, 'bad epochs numbers'"
   ]
  },
  {
   "cell_type": "code",
   "execution_count": 5,
   "metadata": {
    "_uuid": "2813cbb3483b5371cf2d4b7ced950ee22f17d65e",
    "scrolled": false
   },
   "outputs": [
    {
     "name": "stdout",
     "output_type": "stream",
     "text": [
      "initial load model for 2 epoch is\n",
      " ../input/protein-work-data-mm1/X-GAPCVXX-384x384x4-F2-L5XXX-W-A-0-20-2018-12-08-12-55-55.hdf5\n"
     ]
    }
   ],
   "source": [
    "def lastFN(dirName, ends='.hdf5', within=None) :\n",
    "    lf = [tt for tt in os.listdir(dirName) if tt.endswith(ends)]\n",
    "    if within is not None :\n",
    "        lf = [tt for tt in os.listdir(dirName) if tt.count(within)]\n",
    "    if len(lf)==0 : return(None)\n",
    "    tf = [os.path.getmtime(os.path.join(dirName,tt)) for tt in lf]\n",
    "    #print([tt for tt in zip(tf,lf)])\n",
    "    tf = lf[np.array(tf).argsort()[-1]]\n",
    "    tf = os.path.join(dirName,tf)\n",
    "    return(tf)\n",
    "\n",
    "modelLast = None if initial_epoch==0 else lastFN(dirModelLoad, within='x'.join([str(temp) for temp in shape_out]))\n",
    "if (initial_epoch>0) :\n",
    "    assert modelLast is not None, 'not found last load model'\n",
    "if modelLast is not None :\n",
    "    print('initial load model for %d epoch is\\n %s' % (initial_epoch+1,modelLast))"
   ]
  },
  {
   "cell_type": "code",
   "execution_count": null,
   "metadata": {
    "_uuid": "79c4906907758f63356e13ecfe8c6f6ce64556a0"
   },
   "outputs": [],
   "source": []
  },
  {
   "cell_type": "code",
   "execution_count": null,
   "metadata": {
    "_uuid": "e217c81040ffd50d147e381d0cb65104caec09ea"
   },
   "outputs": [],
   "source": [
    "# Build file's lists and feature's array"
   ]
  },
  {
   "cell_type": "code",
   "execution_count": 6,
   "metadata": {
    "_uuid": "ea88081981bcef3e7681beb824f9d3cf3a8ccfba"
   },
   "outputs": [
    {
     "data": {
      "text/plain": [
       "(31072,\n",
       " 11702,\n",
       " ['00070df0-bbc3-11e8-b2bc-ac1f6b6435d0',\n",
       "  '000a6c98-bb9b-11e8-b2b9-ac1f6b6435d0',\n",
       "  '000a9596-bbc4-11e8-b2bc-ac1f6b6435d0',\n",
       "  '000c99ba-bba4-11e8-b2b9-ac1f6b6435d0',\n",
       "  '001838f8-bbca-11e8-b2bc-ac1f6b6435d0',\n",
       "  '001bcdd2-bbb2-11e8-b2ba-ac1f6b6435d0',\n",
       "  '0020af02-bbba-11e8-b2ba-ac1f6b6435d0',\n",
       "  '002679c2-bbb6-11e8-b2ba-ac1f6b6435d0'],\n",
       " ['00008af0-bad0-11e8-b2b8-ac1f6b6435d0',\n",
       "  '0000a892-bacf-11e8-b2b8-ac1f6b6435d0',\n",
       "  '0006faa6-bac7-11e8-b2b7-ac1f6b6435d0',\n",
       "  '0008baca-bad7-11e8-b2b9-ac1f6b6435d0',\n",
       "  '000cce7e-bad4-11e8-b2b8-ac1f6b6435d0',\n",
       "  '00109f6a-bac8-11e8-b2b7-ac1f6b6435d0',\n",
       "  '001765de-bacd-11e8-b2b8-ac1f6b6435d0',\n",
       "  '0018641a-bac9-11e8-b2b8-ac1f6b6435d0'])"
      ]
     },
     "execution_count": 6,
     "metadata": {},
     "output_type": "execute_result"
    }
   ],
   "source": [
    "ftrain = os.listdir(dataTrain)\n",
    "ftest  = os.listdir(dataTest)\n",
    "ftrain, ftest = sorted(ftrain), sorted(ftest)\n",
    "\n",
    "fftrain = [ftrain[ii].split('_')[0] for ii in range(0,len(ftrain),4)]\n",
    "fftest  = [ftest[ii ].split('_')[0] for ii in range(0,len(ftest),4)]\n",
    "\n",
    "len(ftrain), len(ftest), ftrain[:8], ftest[:8]\n",
    "len(fftrain), len(fftest), fftrain[:8], fftest[:8]"
   ]
  },
  {
   "cell_type": "code",
   "execution_count": null,
   "metadata": {
    "_uuid": "dd2d42daebeb9be75df57c71d0a4e5d9824dbdb1"
   },
   "outputs": [],
   "source": []
  },
  {
   "cell_type": "code",
   "execution_count": 7,
   "metadata": {
    "_uuid": "3e8e46d41db7f28ba7a3d8ccc5c4d2f1243ce894"
   },
   "outputs": [
    {
     "data": {
      "text/html": [
       "<div>\n",
       "<style scoped>\n",
       "    .dataframe tbody tr th:only-of-type {\n",
       "        vertical-align: middle;\n",
       "    }\n",
       "\n",
       "    .dataframe tbody tr th {\n",
       "        vertical-align: top;\n",
       "    }\n",
       "\n",
       "    .dataframe thead th {\n",
       "        text-align: right;\n",
       "    }\n",
       "</style>\n",
       "<table border=\"1\" class=\"dataframe\">\n",
       "  <thead>\n",
       "    <tr style=\"text-align: right;\">\n",
       "      <th></th>\n",
       "      <th>Target</th>\n",
       "    </tr>\n",
       "    <tr>\n",
       "      <th>Id</th>\n",
       "      <th></th>\n",
       "    </tr>\n",
       "  </thead>\n",
       "  <tbody>\n",
       "    <tr>\n",
       "      <th>00070df0-bbc3-11e8-b2bc-ac1f6b6435d0</th>\n",
       "      <td>16 0</td>\n",
       "    </tr>\n",
       "    <tr>\n",
       "      <th>000a6c98-bb9b-11e8-b2b9-ac1f6b6435d0</th>\n",
       "      <td>7 1 2 0</td>\n",
       "    </tr>\n",
       "    <tr>\n",
       "      <th>000a9596-bbc4-11e8-b2bc-ac1f6b6435d0</th>\n",
       "      <td>5</td>\n",
       "    </tr>\n",
       "    <tr>\n",
       "      <th>000c99ba-bba4-11e8-b2b9-ac1f6b6435d0</th>\n",
       "      <td>1</td>\n",
       "    </tr>\n",
       "    <tr>\n",
       "      <th>001838f8-bbca-11e8-b2bc-ac1f6b6435d0</th>\n",
       "      <td>18</td>\n",
       "    </tr>\n",
       "    <tr>\n",
       "      <th>001bcdd2-bbb2-11e8-b2ba-ac1f6b6435d0</th>\n",
       "      <td>0</td>\n",
       "    </tr>\n",
       "    <tr>\n",
       "      <th>0020af02-bbba-11e8-b2ba-ac1f6b6435d0</th>\n",
       "      <td>25 2</td>\n",
       "    </tr>\n",
       "    <tr>\n",
       "      <th>002679c2-bbb6-11e8-b2ba-ac1f6b6435d0</th>\n",
       "      <td>0</td>\n",
       "    </tr>\n",
       "    <tr>\n",
       "      <th>00285ce4-bba0-11e8-b2b9-ac1f6b6435d0</th>\n",
       "      <td>2 0</td>\n",
       "    </tr>\n",
       "    <tr>\n",
       "      <th>002daad6-bbc9-11e8-b2bc-ac1f6b6435d0</th>\n",
       "      <td>7</td>\n",
       "    </tr>\n",
       "  </tbody>\n",
       "</table>\n",
       "</div>"
      ],
      "text/plain": [
       "                                       Target\n",
       "Id                                           \n",
       "00070df0-bbc3-11e8-b2bc-ac1f6b6435d0     16 0\n",
       "000a6c98-bb9b-11e8-b2b9-ac1f6b6435d0  7 1 2 0\n",
       "000a9596-bbc4-11e8-b2bc-ac1f6b6435d0        5\n",
       "000c99ba-bba4-11e8-b2b9-ac1f6b6435d0        1\n",
       "001838f8-bbca-11e8-b2bc-ac1f6b6435d0       18\n",
       "001bcdd2-bbb2-11e8-b2ba-ac1f6b6435d0        0\n",
       "0020af02-bbba-11e8-b2ba-ac1f6b6435d0     25 2\n",
       "002679c2-bbb6-11e8-b2ba-ac1f6b6435d0        0\n",
       "00285ce4-bba0-11e8-b2b9-ac1f6b6435d0      2 0\n",
       "002daad6-bbc9-11e8-b2bc-ac1f6b6435d0        7"
      ]
     },
     "execution_count": 7,
     "metadata": {},
     "output_type": "execute_result"
    }
   ],
   "source": [
    "trainY = pd.read_csv(os.path.join(dirData,'train.csv'),index_col=0)\n",
    "trainY.head(10)"
   ]
  },
  {
   "cell_type": "code",
   "execution_count": 8,
   "metadata": {
    "_uuid": "424bfa44b4c938275c891d9425281e8f7b4de8b2"
   },
   "outputs": [],
   "source": [
    "YS = trainY.values; YS[:5]\n",
    "Y  = np.zeros((len(YS),28),dtype=np.float)\n",
    "for ii in range(len(YS)) :\n",
    "    temp = YS[ii][0].split(' ')\n",
    "    #print(temp)\n",
    "    for jj in temp : Y[ii,int(jj)]=1.0\n",
    "    #Y[ii] = Y[ii]/Y[ii].sum()"
   ]
  },
  {
   "cell_type": "code",
   "execution_count": 9,
   "metadata": {
    "_uuid": "3daaaa6b61c5590194965b0552eff581b401c2b2"
   },
   "outputs": [
    {
     "data": {
      "text/plain": [
       "(array([[1., 0., 0., 0., 0., 0., 0., 0., 0., 0., 0., 0., 0., 0., 0., 0.,\n",
       "         1., 0., 0., 0., 0., 0., 0., 0., 0., 0., 0., 0.],\n",
       "        [1., 1., 1., 0., 0., 0., 0., 1., 0., 0., 0., 0., 0., 0., 0., 0.,\n",
       "         0., 0., 0., 0., 0., 0., 0., 0., 0., 0., 0., 0.],\n",
       "        [0., 0., 0., 0., 0., 1., 0., 0., 0., 0., 0., 0., 0., 0., 0., 0.,\n",
       "         0., 0., 0., 0., 0., 0., 0., 0., 0., 0., 0., 0.],\n",
       "        [0., 1., 0., 0., 0., 0., 0., 0., 0., 0., 0., 0., 0., 0., 0., 0.,\n",
       "         0., 0., 0., 0., 0., 0., 0., 0., 0., 0., 0., 0.],\n",
       "        [0., 0., 0., 0., 0., 0., 0., 0., 0., 0., 0., 0., 0., 0., 0., 0.,\n",
       "         0., 0., 1., 0., 0., 0., 0., 0., 0., 0., 0., 0.]]), (31072,))"
      ]
     },
     "execution_count": 9,
     "metadata": {},
     "output_type": "execute_result"
    }
   ],
   "source": [
    "Y[:5], Y.sum(axis=(-1,)).shape"
   ]
  },
  {
   "cell_type": "code",
   "execution_count": 10,
   "metadata": {
    "_uuid": "d4bddf4bbf36d68ae242580677ca10b7435d1be1"
   },
   "outputs": [
    {
     "name": "stderr",
     "output_type": "stream",
     "text": [
      "/home/svyatkin/anaconda3/lib/python3.6/site-packages/skimage/transform/_warps.py:84: UserWarning: The default mode, 'constant', will be changed to 'reflect' in skimage 0.15.\n",
      "  warn(\"The default mode, 'constant', will be changed to 'reflect' in \"\n"
     ]
    },
    {
     "data": {
      "image/png": "[encoded data removed]",
      "text/plain": [
       "<Figure size 432x288 with 1 Axes>"
      ]
     },
     "metadata": {},
     "output_type": "display_data"
    },
    {
     "data": {
      "text/plain": [
       "((256, 256), dtype('uint8'), 0, 247, 8145338368.0)"
      ]
     },
     "execution_count": 10,
     "metadata": {},
     "output_type": "execute_result"
    }
   ],
   "source": [
    "png = cv2.imread(os.path.join(dataTrain,ftrain[1]),-1)\n",
    "png = skimage.transform.rescale(png,1.0/2.0)*255.0\n",
    "png = png.astype(np.uint8)\n",
    "plt.imshow(png); plt.show()\n",
    "png.shape, png.dtype, png.min(), png.max(), int(len(ftrain))/4*256*256*4"
   ]
  },
  {
   "cell_type": "code",
   "execution_count": null,
   "metadata": {
    "_uuid": "77ede18e8c9809565be5c713d63b8142bd37bc00"
   },
   "outputs": [],
   "source": []
  },
  {
   "cell_type": "code",
   "execution_count": null,
   "metadata": {
    "_uuid": "240671457a88bade11fce7f499b34987d8adcb66",
    "scrolled": true
   },
   "outputs": [],
   "source": [
    "# Main input generator for train, valid and test datas"
   ]
  },
  {
   "cell_type": "code",
   "execution_count": 11,
   "metadata": {
    "_uuid": "7e451cb0613c8b59fa9ba8aa661f21e17097f68f",
    "scrolled": false
   },
   "outputs": [
    {
     "name": "stderr",
     "output_type": "stream",
     "text": [
      "/home/svyatkin/anaconda3/lib/python3.6/site-packages/h5py/__init__.py:36: FutureWarning: Conversion of the second argument of issubdtype from `float` to `np.floating` is deprecated. In future, it will be treated as `np.float64 == np.dtype(float).type`.\n",
      "  from ._conv import register_converters as _register_converters\n",
      "Using TensorFlow backend.\n"
     ]
    }
   ],
   "source": [
    "import imgaug as ia\n",
    "from imgaug import augmenters as iaa\n",
    "\n",
    "\n",
    "import keras\n",
    "class BobaGenerator(keras.utils.Sequence):\n",
    "\n",
    "    def __init__(self, dirImages, nameImages, labels, batch_size, shape_out, \n",
    "                 weightsOK=False, \n",
    "                 aug=False, augP=0.15, # list features with augmentation by augP-probability\n",
    "                 debug=False,\n",
    "                 printOK=False) :\n",
    "        \n",
    "        assert len(nameImages)==len(labels),'not equal lengths X and Y'\n",
    "        self.dirImages, self.nameImages, self.y = dirImages, np.array(nameImages), labels\n",
    "        self.batch_size                         = batch_size\n",
    "        \n",
    "        if debug and not (type(debug)==type(9000)) : debug = 9000\n",
    "        \n",
    "        if debug : \n",
    "            self.nameImages, self.y = self.nameImages[:debug], self.y[:debug]\n",
    "        \n",
    "        png            = cv2.imread(os.path.join(dirImages,nameImages[0]+'_red.png'),-1)\n",
    "        self.shape_in  = png.shape\n",
    "        self.shape_out = shape_out\n",
    "        \n",
    "        self.freq      = labels.sum(axis=0)\n",
    "        self.freq[self.freq==0.0] = self.freq.max()+1.0\n",
    "        self.freq      = np.divide(1.0,self.freq)\n",
    "        self.freq      = np.divide(self.freq,self.freq.max())\n",
    "        \n",
    "        self.beforeAug = len(self.y)\n",
    "        \n",
    "        if aug :\n",
    "            \n",
    "            if printOK : \n",
    "                print('aug True : size before %d %d' %(len(self.nameImages), len(self.y)))\n",
    "            \n",
    "            augN, augY = [], []\n",
    "            for iaug in aug :\n",
    "                naug = (self.y[:,iaug]==1)\n",
    "                augN.append(self.nameImages[naug])\n",
    "                augY.append(self.y[naug])\n",
    "            augN            = np.hstack(augN)\n",
    "            self.nameImages = np.hstack([self.nameImages, augN])\n",
    "            augY            = np.vstack(augY)\n",
    "            self.y          = np.vstack([self.y, augY])\n",
    "            \n",
    "            if printOK : \n",
    "                print('aug True : size after  %d %d' %(len(self.nameImages), len(self.y)))\n",
    "            \n",
    "            del augN, augY\n",
    "        \n",
    "        \n",
    "        self.nFiles    = int(len(self.nameImages)*4)\n",
    "        self.nPicts    = int(len(self.y))\n",
    "        self.nIters    = int(np.ceil(self.nPicts / float(self.batch_size)))\n",
    "        \n",
    "        self.weightsOK = weightsOK\n",
    "        self.aug       = aug;\n",
    "        self.augP      = augP\n",
    "        \n",
    "        if self.aug : self.augproc = self.__aug()\n",
    "        \n",
    "        if printOK :\n",
    "            print('iFiles=%d iPicts=%d iBatches=%d last batch=%d'%(self.nFiles, self.nPicts, \n",
    "                                                                   self.nIters, self.nPicts%batch_size))\n",
    "            #print(self.freq.shape, self.freq)\n",
    "            \n",
    "    def __len__(self):\n",
    "        return self.nIters\n",
    "\n",
    "    def __getitem__(self, idx):\n",
    "        \n",
    "        nn     = np.arange(idx*self.batch_size,\n",
    "                           min(min((idx+1),self.__len__())*self.batch_size,self.nPicts))\n",
    "                                                   \n",
    "        nn     = np.int32(nn)\n",
    "        batchX = np.zeros((len(nn),)+self.shape_out, dtype=np.uint8)\n",
    "        \n",
    "        batchY = self.y[nn]\n",
    "        batchW = (np.multiply(batchY,self.freq).max(axis=1))*10.0\n",
    "        \n",
    "        for ii in nn :\n",
    "            #print(ii, self.shape_out,  batchX.shape, nn)\n",
    "            try : batchX[ii-nn[0]] = self.__load_image(ii, self.shape_out)\n",
    "            except Exception as e :  print('except load image', ii, e.strerror)\n",
    "                \n",
    "        if self.aug and nn[-1]>=self.beforeAug :\n",
    "            batchX[(max(self.beforeAug,nn[0])-nn[0]):]  = self.augproc.augment_images(batchX[(max(self.beforeAug,nn[0])-nn[0]):])\n",
    "            batchW[(max(self.beforeAug,nn[0])-nn[0]):] *= self.beforeAug/float(self.nPicts)\n",
    "            \n",
    "        if not self.weightsOK : batchW[:] = 1.0\n",
    "            \n",
    "        return (batchX, batchY, batchW)\n",
    "    \n",
    "    def __iter__(self):\n",
    "        for item in (self[i] for i in range(len(self))):\n",
    "            yield item\n",
    "            \n",
    "    def __aug (self) :\n",
    "        seq = iaa.Sequential([\n",
    "            iaa.Fliplr(0.5), # horizontal flips\n",
    "            iaa.Flipud(0.5), # horizontal flips\n",
    "            iaa.OneOf([\n",
    "                iaa.Crop(percent=(0, 0.1)), # random crops\n",
    "\n",
    "                # Small gaussian blur with random sigma between 0 and 0.5.\n",
    "                # But we only blur about 50% of all images.\n",
    "                iaa.Sometimes(0.5,iaa.GaussianBlur(sigma=(0, 0.5))),\n",
    "\n",
    "                # Add gaussian noise.\n",
    "                # For 50% of all images, we sample the noise once per pixel.\n",
    "                # For the other 50% of all images, we sample the noise per pixel AND\n",
    "                # channel. This can change the color (not only brightness) of the\n",
    "                # pixels.\n",
    "                iaa.AdditiveGaussianNoise(loc=0, scale=(0.0, 0.05*255), per_channel=0.5),\n",
    "                ],0.5),\n",
    "            iaa.OneOf([\n",
    "                iaa.Crop(percent=(0, 0.1)), # random crops\n",
    "\n",
    "                # Strengthen or weaken the contrast in each image.\n",
    "                iaa.ContrastNormalization((0.75, 1.5)),\n",
    "\n",
    "                # Make some images brighter and some darker.\n",
    "                # In 20% of all cases, we sample the multiplier once per channel,\n",
    "                # which can end up changing the color of the images.\n",
    "                iaa.Multiply((0.8, 1.2), per_channel=0.2),\n",
    "                ],0.6),\n",
    "            iaa.OneOf([\n",
    "                iaa.Crop(percent=(0, 0.1)), # random crops\n",
    "\n",
    "                # Apply affine transformations to each image.\n",
    "                # Scale/zoom them, translate/move them, rotate them and shear them.\n",
    "                iaa.Affine(\n",
    "                    scale={\"x\": (0.8, 1.2), \"y\": (0.8, 1.2)},\n",
    "                    translate_percent={\"x\": (-0.2, 0.2), \"y\": (-0.2, 0.2)},\n",
    "                    rotate=(-10, 10),\n",
    "                    shear=(-3, 3)\n",
    "                )],0.2)\n",
    "            ], random_order=True)\n",
    "        return seq \n",
    "        \n",
    "    def __load_image (self, idx, shape_out) :\n",
    "        train = np.zeros(self.shape_in+(4,),dtype=np.uint8)\n",
    "        train[...,0] = cv2.imread(os.path.join(self.dirImages,self.nameImages[idx]+'_red.png'),-1)    # R\n",
    "        train[...,1] = cv2.imread(os.path.join(self.dirImages,self.nameImages[idx]+'_green.png'),-1)  # G\n",
    "        train[...,2] = cv2.imread(os.path.join(self.dirImages,self.nameImages[idx]+'_blue.png'),-1)   # B\n",
    "        train[...,3] = cv2.imread(os.path.join(self.dirImages,self.nameImages[idx]+'_yellow.png'),-1) # Y\n",
    "        train = cv2.resize(train, (shape_out[1],shape_out[0]))\n",
    "        #print(train.shape, shape_out)\n",
    "        return train\n",
    "    \n",
    "    def __load_image_old (self, idx, shape_out) :\n",
    "        train = np.zeros(self.shape_in+(4,),dtype=np.uint8)\n",
    "        train[...,0] = cv2.imread(os.path.join(self.dirImages,self.nameImages[idx*4+2]),-1) # R\n",
    "        train[...,1] = cv2.imread(os.path.join(self.dirImages,self.nameImages[idx*4+1]),-1) # G\n",
    "        train[...,2] = cv2.imread(os.path.join(self.dirImages,self.nameImages[idx*4+0]),-1) # B\n",
    "        train[...,3] = cv2.imread(os.path.join(self.dirImages,self.nameImages[idx*4+3]),-1) # Y\n",
    "        train = cv2.resize(train, (shape_out[1],shape_out[0]))\n",
    "        #print(train.shape, shape_out)\n",
    "        return train"
   ]
  },
  {
   "cell_type": "code",
   "execution_count": 12,
   "metadata": {
    "_uuid": "d6e3acfd5a5eeaf6224d2da08a466a7ba3c747ec",
    "scrolled": false
   },
   "outputs": [
    {
     "name": "stdout",
     "output_type": "stream",
     "text": [
      "iFiles=124288 iPicts=31072 iBatches=1942 last batch=0\n"
     ]
    },
    {
     "data": {
      "text/plain": [
       "(16, (16, 384, 384, 4))"
      ]
     },
     "execution_count": 12,
     "metadata": {},
     "output_type": "execute_result"
    }
   ],
   "source": [
    "tgt   = BobaGenerator(dirTrain, fftrain, Y, batch_size, shape_out, weightsOK=True, printOK=True, debug=okeyDebug) #9000)\n",
    "train, trainY, weightX = tgt[0]\n",
    "len(train), train.shape"
   ]
  },
  {
   "cell_type": "code",
   "execution_count": null,
   "metadata": {
    "_uuid": "c200e1b72025c32259edf92d9d51ad5766e8f6e7"
   },
   "outputs": [],
   "source": []
  },
  {
   "cell_type": "code",
   "execution_count": null,
   "metadata": {
    "_uuid": "32276e16198f154ac81c3635038af3cc76391c15"
   },
   "outputs": [],
   "source": []
  },
  {
   "cell_type": "code",
   "execution_count": 13,
   "metadata": {
    "_uuid": "08a9a758ce67bf2613c5dd19e732730e6cdba2c8"
   },
   "outputs": [],
   "source": [
    "import keras\n",
    "\n",
    "from keras.models import Input, Model\n",
    "from keras.layers import Convolution2D, MaxPooling2D, UpSampling2D, Conv2D, Concatenate, Activation, Dropout,Add\n",
    "from keras.layers import Conv2DTranspose, SpatialDropout2D, Dense, Reshape, Flatten, AveragePooling2D\n",
    "from keras.layers import RepeatVector, ZeroPadding2D, Cropping2D, multiply, average, add, subtract\n",
    "from keras.layers import GlobalAveragePooling2D, GlobalMaxPooling2D, GlobalAveragePooling1D\n",
    "from keras.layers.normalization import BatchNormalization\n",
    "from keras.callbacks import ModelCheckpoint, ReduceLROnPlateau, EarlyStopping, TensorBoard\n",
    "\n",
    "import keras.backend as K "
   ]
  },
  {
   "cell_type": "code",
   "execution_count": 14,
   "metadata": {
    "_uuid": "cc9ffac3d9f140b311b1ac087937c92fb8ec57bf"
   },
   "outputs": [],
   "source": [
    "import tensorflow as tf"
   ]
  },
  {
   "cell_type": "code",
   "execution_count": 15,
   "metadata": {
    "_uuid": "5e97a9abb05d922eecce9c3691cdc844ce19f62c"
   },
   "outputs": [
    {
     "data": {
      "text/plain": [
       "'2.1.6'"
      ]
     },
     "execution_count": 15,
     "metadata": {},
     "output_type": "execute_result"
    }
   ],
   "source": [
    "keras.__version__"
   ]
  },
  {
   "cell_type": "code",
   "execution_count": null,
   "metadata": {
    "_uuid": "059ba7d957fbd0a7bfe91a6ac5ed3f361caf43a7"
   },
   "outputs": [],
   "source": []
  },
  {
   "cell_type": "code",
   "execution_count": null,
   "metadata": {
    "_uuid": "b82074a468fc072e2c5feaf89dcf8bd85bfb86e3"
   },
   "outputs": [],
   "source": []
  },
  {
   "cell_type": "code",
   "execution_count": null,
   "metadata": {
    "_uuid": "27c136b6a38369d6f6ddd02392c7cfbba7eab8cd"
   },
   "outputs": [],
   "source": [
    "# Main 2 models"
   ]
  },
  {
   "cell_type": "code",
   "execution_count": 16,
   "metadata": {
    "_uuid": "8123b82520498d53454a75dca38465808ff05ff1",
    "scrolled": true
   },
   "outputs": [],
   "source": [
    "def GAPNET_PLXX (input_shape, output_shape, dropout=False, levels=[32,64,128,256], act='relu', seOK=False) :\n",
    "    \n",
    "    def se_layer(x, out_dim, ratio = 4) : #4):\n",
    "        '''\n",
    "        SE module performs inter-channel weighting.\n",
    "        '''\n",
    "        squeeze = GlobalAveragePooling2D()(x)\n",
    "\n",
    "        excitation = Dense(units=out_dim // ratio)(squeeze)\n",
    "        excitation = Activation('relu')(excitation)\n",
    "        excitation = Dense(units=out_dim)(excitation)\n",
    "        excitation = Activation('sigmoid')(excitation)\n",
    "        excitation = Reshape((1,1,out_dim))(excitation)\n",
    "\n",
    "        scale = multiply([x,excitation])\n",
    "\n",
    "        return scale\n",
    "\n",
    "    ##act= 'relu' # None\n",
    "    \n",
    "    i  = Input(shape=input_shape, name='input'); a = i\n",
    "    \n",
    "    a  = BatchNormalization()(a)\n",
    "    a  = Activation('relu')(a)\n",
    "    \n",
    "    ccc= GlobalAveragePooling2D()(a);\n",
    "    \n",
    "    n  = a\n",
    "    \n",
    "    for dim in levels[:-2] :\n",
    "    \n",
    "        n  = Conv2D(dim, (3, 3), strides=1, activation=act, padding='same')(n) \n",
    "\n",
    "        n  = Conv2D(dim, (3, 3), strides=1, activation=act, padding='same')(n)    \n",
    "        n  = Conv2D(dim, (3, 3), strides=1, activation=act, padding='same')(n)\n",
    "\n",
    "\n",
    "        if seOK : n = se_layer(n,dim)\n",
    "        \n",
    "        n  = MaxPooling2D(2)(n);  \n",
    "        n  = BatchNormalization()(n)\n",
    "        n  = Activation('relu')(n)\n",
    "\n",
    "        c10= GlobalAveragePooling2D()(n);\n",
    "        #c10= BatchNormalization()(c10)\n",
    "        #c10= Activation('relu')(c10)\n",
    "        \n",
    "        ccc = Concatenate() ([ccc,c10])\n",
    "\n",
    "        if dropout : n = Dropout(dropout)(n)\n",
    "            \n",
    "    \n",
    "    dim= levels[-2]\n",
    "    n  = Conv2D(dim, (3, 3), strides=1, activation=act, padding='same')(n)\n",
    "    n  = Conv2D(dim, (3, 3), strides=1, activation=act, padding='same')(n)\n",
    "    n  = Conv2D(dim, (3, 3), strides=1, activation=act, padding='same')(n)\n",
    "\n",
    "    if seOK : n = se_layer(n,dim)\n",
    "        \n",
    "    n  = BatchNormalization()(n)\n",
    "    n  = Activation('relu')(n)\n",
    "    \n",
    "    c30 = GlobalAveragePooling2D()(n);\n",
    "    #c30= BatchNormalization()(c30)\n",
    "    #c30= Activation('relu')(c30)\n",
    "    \n",
    "    n  = Concatenate()([ccc,c30])\n",
    "    if dropout : n = Dropout(dropout)(n)\n",
    "    \n",
    "    dim= levels[-1]\n",
    "    n  = Dense(dim, activation=act)(n)\n",
    "    n  = BatchNormalization()(n)\n",
    "    n  = Activation('relu')(n)\n",
    "    \n",
    "    n  = Dense(dim, activation=act)(n)\n",
    "    n  = BatchNormalization()(n)\n",
    "    n  = Activation('relu')(n)\n",
    "    \n",
    "    o  = Dense(output_shape)(n)\n",
    "    o  = Activation('sigmoid')(o)\n",
    "        \n",
    "    return Model(inputs=i, outputs=o, name='GAPCVXX')\n",
    "\n",
    "if 0 :\n",
    "\n",
    "    model10 = GAPNET_PLXX((256,256,4), 28, dropout=0.2 , levels=[32,64,128,256,512], seOK=True)\n",
    "    model10.summary()"
   ]
  },
  {
   "cell_type": "code",
   "execution_count": 17,
   "metadata": {
    "_uuid": "f62f3c797d0e8bcf1c823e80af3a2490b4c650f2"
   },
   "outputs": [],
   "source": [
    "def GAPNET_RS (input_shape, output_shape, dropout=False, act='relu', levels=[32,64,128,256], seOK=True) :\n",
    "    \n",
    "    def se_layer(x, out_dim, ratio = 4) : #4):\n",
    "        '''\n",
    "        SE module performs inter-channel weighting.\n",
    "        '''\n",
    "        squeeze = GlobalAveragePooling2D()(x)\n",
    "\n",
    "        excitation = Dense(units=out_dim // ratio)(squeeze)\n",
    "        excitation = Activation('relu')(excitation)\n",
    "        excitation = Dense(units=out_dim)(excitation)\n",
    "        excitation = Activation('sigmoid')(excitation)\n",
    "        excitation = Reshape((1,1,out_dim))(excitation)\n",
    "\n",
    "        scale = multiply([x,excitation])\n",
    "\n",
    "        return scale\n",
    "\n",
    "    def residual_block(blockInput, num_filters=16, seOK = True, batch_activate = False):\n",
    "        x = BatchActivate(blockInput)\n",
    "        x = convolution_block(x, num_filters, (3,3))\n",
    "        x = convolution_block(x, num_filters, (3,3), activation=False)\n",
    "\n",
    "        if seOK : x = se_layer(x,num_filters)\n",
    "\n",
    "        x = Add()([x, blockInput])\n",
    "        if batch_activate:\n",
    "            x = BatchActivate(x)\n",
    "        return x\n",
    "\n",
    "    def BatchActivate(x):\n",
    "        x = BatchNormalization()(x)\n",
    "        x = Activation('relu')(x)\n",
    "        return x\n",
    "\n",
    "    def convolution_block(x, filters, size, strides=(1,1), padding='same', activation=True):\n",
    "        x = Conv2D(filters, size, strides=strides, padding=padding, kernel_initializer='he_normal')(x)\n",
    "        if activation == True:\n",
    "            x = BatchActivate(x)\n",
    "        return x    \n",
    "    \n",
    "    i  = Input(shape=input_shape, name='input'); a = i\n",
    "    \n",
    "    a  = BatchNormalization()(a)\n",
    "    a  = Activation('relu')(a)\n",
    "    \n",
    "    ccc= GlobalAveragePooling2D()(a);\n",
    "    \n",
    "    n  = a\n",
    "    \n",
    "    for dim in levels[:-2] :\n",
    "    \n",
    "        n  = Conv2D(dim, (3, 3), strides=1, activation=act, padding='same')(n) \n",
    "\n",
    "        n  = residual_block(n,dim,seOK=seOK)\n",
    "        n  = residual_block(n,dim,batch_activate=True,seOK=seOK);\n",
    "\n",
    "        n  = MaxPooling2D(2)(n);  \n",
    "        n  = BatchNormalization()(n)\n",
    "        n  = Activation('relu')(n)\n",
    "\n",
    "        c10= GlobalAveragePooling2D()(n);\n",
    "        #c10= BatchNormalization()(c10)\n",
    "        #c10= Activation('relu')(c10)\n",
    "        \n",
    "        ccc = Concatenate() ([ccc,c10])\n",
    "\n",
    "        if dropout : n = Dropout(dropout)(n)\n",
    "            \n",
    "    dim= levels[-2]\n",
    "    n  = Conv2D(dim, (3, 3), strides=1, activation=act, padding='same')(n)\n",
    "    n = residual_block(n,dim,seOK=seOK)\n",
    "    n = residual_block(n,dim,batch_activate=True,seOK=seOK);\n",
    "    \n",
    "    n  = BatchNormalization()(n)\n",
    "    n  = Activation('relu')(n)\n",
    "    \n",
    "    c30 = GlobalAveragePooling2D()(n);\n",
    "    #c30= BatchNormalization()(c30)\n",
    "    #c30= Activation('relu')(c30)\n",
    "    \n",
    "    n  = Concatenate()([ccc,c30])\n",
    "    if dropout : n = Dropout(dropout)(n)\n",
    "    \n",
    "    dim= levels[-1]\n",
    "    n  = Dense(dim, activation=act)(n)\n",
    "    n  = BatchNormalization()(n)\n",
    "    n  = Activation('relu')(n)\n",
    "    \n",
    "    n  = Dense(dim, activation=act)(n)\n",
    "    n  = BatchNormalization()(n)\n",
    "    n  = Activation('relu')(n)\n",
    "    \n",
    "    o  = Dense(output_shape)(n)\n",
    "    o  = Activation('sigmoid')(o)\n",
    "        \n",
    "    return Model(inputs=i, outputs=o, name='GAPRSXX')\n",
    "\n",
    "if 0 :\n",
    "\n",
    "    model10 = GAPNET_RS((256,256,4), 28, dropout=0.2, levels=[32,64,128,256,512])\n",
    "    model10.summary()"
   ]
  },
  {
   "cell_type": "code",
   "execution_count": null,
   "metadata": {
    "_uuid": "684361f39f7b0406674879b5a873b43215d97372"
   },
   "outputs": [],
   "source": []
  },
  {
   "cell_type": "code",
   "execution_count": null,
   "metadata": {
    "_uuid": "bf55ad823c09f1bf58334360190efd9391ddb37d"
   },
   "outputs": [],
   "source": [
    "# functions for predict, model load&create. Metrics and loss functions."
   ]
  },
  {
   "cell_type": "code",
   "execution_count": 18,
   "metadata": {
    "_uuid": "dde8ad2f8d9f7ac989c44243e58a9e4cfdc6a51c"
   },
   "outputs": [],
   "source": [
    "import sys\n",
    "\n",
    "from keras.models import load_model\n",
    "\n",
    "#sys.path.append('../Python')\n",
    "#from zooMetrics import lossZdice, diceCC\n",
    "import numpy as np\n",
    "\n",
    "def modelLoadOnly (filemodel) : # , customs={'lossZdice': lossZdice,'diceCC': diceCC}) :\n",
    "    model10 = load_model(filemodel,compile=False) #,custom_objects=customs)\n",
    "    return(model10)\n",
    "\n",
    "def modelLoad (filemodel, customs={}, **kwarg) :\n",
    "    model10 = load_model(filemodel,compile=True,custom_objects=customs)\n",
    "    return(model10)\n",
    "\n",
    "\n",
    "def modelPredict (model, XX, batch_size=18, **kwarg) :\n",
    "    PP = model.predict(XX,batch_size=batch_size)\n",
    "    return(PP)\n",
    "\n",
    "def modelLoadAndPredict (filepath, XX, **kwarg) :\n",
    "    #print ('load predict',type(XX))\n",
    "    model10 = modelLoad(filepath, **kwarg)\n",
    "    PP      = modelPredict(model10, XX, **kwarg)\n",
    "    return(PP)\n",
    "\n"
   ]
  },
  {
   "cell_type": "code",
   "execution_count": 19,
   "metadata": {
    "_uuid": "e2a5bd1484fb4795158901056d5d15b59b7a410d",
    "scrolled": true
   },
   "outputs": [
    {
     "name": "stdout",
     "output_type": "stream",
     "text": [
      "2018-12-08 13:24:14.905230\n"
     ]
    }
   ],
   "source": [
    "# credits: https://www.kaggle.com/guglielmocamporese/macro-f1-score-keras\n",
    "\n",
    "def f1(y_true, y_pred, threshold=0.5):\n",
    "    #y_pred = K.round(y_pred)\n",
    "    y_pred = K.cast(K.greater(K.clip(y_pred, 0.0, 1.0), threshold), K.floatx())\n",
    "    \n",
    "    tp = K.sum(K.cast(y_true*y_pred, 'float'), axis=0)\n",
    "    tn = K.sum(K.cast((1.0-y_true)*(1.0-y_pred), 'float'), axis=0)\n",
    "    \n",
    "    fp = K.sum(K.cast(y_true*(1.0-y_pred), 'float'), axis=0)\n",
    "    fn = K.sum(K.cast((1.0-y_true)*y_pred, 'float'), axis=0)\n",
    "\n",
    "    #tp = tf.where(y_true==.0, tf.ones_like(tp), tp)\n",
    "    \n",
    "    p = tp / (tp + fp + K.epsilon())\n",
    "    r = tp / (tp + fn + K.epsilon())\n",
    "    \n",
    "    ############p, r = K.mean(p), K.mean(r)\n",
    "\n",
    "    f1 = 2.0*p*r / (p+r+K.epsilon())\n",
    "    #f1 = tf.where(tf.is_nan(f1), tf.zeros_like(f1), f1) #tf.zeros_like(f1), f1)\n",
    "    #return K.clip(f1,0.0,1.0), tp, tn, fp, fn, p, r\n",
    "    return K.clip(K.mean(f1),0.0,1.0)\n",
    "    #return K.mean(f1)\n",
    "\n",
    "def f1A(y_true, y_pred, threshold=.5):\n",
    "    \n",
    "    #y_pred = tf.where(y_pred<(threshold*K.ones_like(y_pred)), tf.zeros_like(y_pred), tf.ones_like(y_pred))\n",
    "\n",
    "    tp = K.sum(K.cast(y_true*y_pred, 'float'), axis=0)\n",
    "    tn = K.sum(K.cast((1.0-y_true)*(1.0-y_pred), 'float'), axis=0)\n",
    "    \n",
    "    fp = K.sum(K.cast(y_true*(1.0-y_pred), 'float'), axis=0)\n",
    "    fn = K.sum(K.cast((1.0-y_true)*y_pred, 'float'), axis=0)\n",
    "\n",
    "    tp = tf.where(y_true==.0, tf.ones_like(tp), tp)\n",
    "    \n",
    "    p = tp / (tp + fp + K.epsilon())\n",
    "    r = tp / (tp + fn + K.epsilon())\n",
    "    \n",
    "    f1 = 2*p*r / (p+r+K.epsilon())\n",
    "    #f1 = tf.where(tf.is_nan(f1), tf.zeros_like(f1), f1)\n",
    "    #return (f1)\n",
    "    return K.mean(f1)\n",
    "\n",
    "def f1B(y_true, y_pred, threshold=.5):\n",
    "    \n",
    "    #y_pred = tf.where(y_pred<(threshold*K.ones_like(y_pred)), tf.zeros_like(y_pred), tf.ones_like(y_pred))\n",
    "    \n",
    "    tp = K.sum(K.cast(y_true*y_pred, 'float'), axis=1)\n",
    "    tn = K.sum(K.cast((1.0-y_true)*(1.0-y_pred), 'float'), axis=1)\n",
    "    \n",
    "    fp = K.sum(K.cast(y_true*(1.0-y_pred), 'float'), axis=1)\n",
    "    fn = K.sum(K.cast((1.0-y_true)*y_pred, 'float'), axis=1)\n",
    "\n",
    "    tp = tf.where(y_true==.0, tf.ones_like(tp), tp)\n",
    "    \n",
    "    \n",
    "    p = tp / (tp + fp + K.epsilon())\n",
    "    r = tp / (tp + fn + K.epsilon())\n",
    "    \n",
    "    f1 = 2*p*r / (p+r+K.epsilon())\n",
    "    \n",
    "    return f1\n",
    "\n",
    "#def focal_loss(y_true, y_pred, gamma=2., alpha=.75):\n",
    "def focal_loss(y_true, y_pred, gamma=5., alpha=.75):\n",
    "    def focal_loss_fixed(y_true, y_pred):\n",
    "        eps = K.epsilon()\n",
    "        y_pred=K.clip(y_pred,eps,1.-eps)\n",
    "        pt_1 = tf.where(tf.equal(y_true, 1), y_pred, tf.ones_like(y_pred))\n",
    "        pt_0 = tf.where(tf.equal(y_true, 0), y_pred, tf.zeros_like(y_pred))\n",
    "        \n",
    "        pt_1 = K.clip(pt_1,eps,1.-eps)\n",
    "        pt_0 = K.clip(pt_0,eps,1.-eps)\n",
    "        \n",
    "        return (-K.mean(alpha * K.pow(1. - pt_1, gamma) * K.log(pt_1))-\n",
    "                 K.mean((1-alpha) * K.pow( pt_0, gamma) * K.log(1. - pt_0)))\n",
    "    return focal_loss_fixed(y_true,y_pred)\n",
    "\n",
    "\n",
    "def lossloss(y_true, y_pred, G=5., A=.75, F=8.) :\n",
    "    #return(focal_loss(y_true,y_pred))\n",
    "    return(K.clip(K.log(2.0-f1A(y_true,y_pred)),0.0,1.0)*F+ #5+\n",
    "           focal_loss(y_true,y_pred, gamma=G, alpha=A)) ## must be best\n",
    "    #return(((K.clip(K.log(2.0-f1_(y_true,y_pred)),0.0,1.0))*5+K.binary_crossentropy(y_true,y_pred)))\n",
    "    #return(K.log(2.0-f1A(y_true,y_pred)))\n",
    "    #return(1.0-f1B(y_true,y_pred))\n",
    "\n",
    "print(datetime.datetime.now())"
   ]
  },
  {
   "cell_type": "code",
   "execution_count": null,
   "metadata": {
    "_uuid": "954234ccf19b72033ae854a393c0b1aebbc0ab3c"
   },
   "outputs": [],
   "source": []
  },
  {
   "cell_type": "code",
   "execution_count": 20,
   "metadata": {
    "_uuid": "b4d5ddfdedce95a5c75e09093c55aa0af9a85ef0"
   },
   "outputs": [],
   "source": [
    "def createNet (shape, channel_out, **kwarg) :\n",
    "\n",
    "    if not okeyRS : model10 = GAPNET_PLXX(shape,channel_out, dropout=0.3, levels=levels, seOK=okeySE)\n",
    "    else :          model10 = GAPNET_RS  (shape,channel_out, dropout=0.3, levels=levels, seOK=okeySE)\n",
    "    \n",
    "    model10.compile(loss=lossloss, optimizer='Adamax', metrics=['binary_accuracy',f1])\n",
    "\n",
    "    return(model10)"
   ]
  },
  {
   "cell_type": "code",
   "execution_count": null,
   "metadata": {
    "_uuid": "190199482625b2d91698c5871951db8fa0c2e09e"
   },
   "outputs": [],
   "source": []
  },
  {
   "cell_type": "code",
   "execution_count": null,
   "metadata": {
    "_uuid": "48b0256467445a580ffc8c5f05b702d1126a54d0"
   },
   "outputs": [],
   "source": []
  },
  {
   "cell_type": "code",
   "execution_count": null,
   "metadata": {
    "_uuid": "5d2036862d11b25618f81894502e9fce4f823766"
   },
   "outputs": [],
   "source": [
    "# Class for using cyclic learning rate"
   ]
  },
  {
   "cell_type": "code",
   "execution_count": 21,
   "metadata": {
    "_uuid": "957709841066937739edb329fb145d9e409fa058"
   },
   "outputs": [
    {
     "name": "stdout",
     "output_type": "stream",
     "text": [
      "using lr from 2 to 40 epochs\n",
      "[(2, 0.0009973499378072945), (3, 0.0009940439480455386), (4, 0.000989427842547679), (5, 0.0009835138623956602), (6, 0.0009763176904016913), (7, 0.0009678584095202469), (8, 0.0009581584522435024), (9, 0.0009472435411143978), (10, 0.0009351426205150777), (11, 0.0009218877799115928), (12, 0.0009075141687584057), (13, 0.0008920599032883552), (14, 0.0008755659654352599), (15, 0.0008580760941571966), (16, 0.0008396366694486466), (17, 0.0008202965893490875), (18, 0.0008001071402741842), (19, 0.0007791218610134325), (20, 0.0007573964007549155), (21, 0.00073498837151366), (22, 0.0007119571953549304), (23, 0.0006883639468175926), (24, 0.0006642711909554174), (25, 0.0006397428174258048), (26, 0.0006148438710658978), (27, 0.0005896403794053679), (28, 0.0005641991775732756), (29, 0.0005385877310633231), (30, 0.0005128739568274944), (31, 0.00048712604317250577), (32, 0.00046141226893667693), (33, 0.00043580082242672456), (34, 0.00041035962059463217), (35, 0.00038515612893410227), (36, 0.0003602571825741953), (37, 0.00033572880904458267), (38, 0.0003116360531824075), (39, 0.0002880428046450697), (40, 0.00026501162848633996)]\n"
     ]
    }
   ],
   "source": [
    "import keras.callbacks as callbacks\n",
    "from keras.callbacks import Callback, LearningRateScheduler\n",
    "\n",
    "# https://github.com/titu1994/Snapshot-Ensembles\n",
    "\n",
    "class SnapshotModelCheckpoint(Callback):\n",
    "    \"\"\"Callback that saves the snapshot weights of the model.\n",
    "    Saves the model weights on certain epochs (which can be considered the\n",
    "    snapshot of the model at that epoch).\n",
    "    Should be used with the cosine annealing learning rate schedule to save\n",
    "    the weight just before learning rate is sharply increased.\n",
    "    # Arguments:\n",
    "        nb_epochs: total number of epochs that the model will be trained for.\n",
    "        nb_snapshots: number of times the weights of the model will be saved.\n",
    "    \"\"\"\n",
    "\n",
    "    def __init__(self, nb_epochs, nb_snapshots): ##, fn_prefix='Model'):\n",
    "        super(SnapshotModelCheckpoint, self).__init__()\n",
    "\n",
    "        self.check = nb_epochs // nb_snapshots\n",
    "\n",
    "    def on_epoch_end(self, epoch, logs={}):\n",
    "        if epoch != 0 and (epoch + 1) % self.check == 0:\n",
    "            pass\n",
    "\n",
    "class SnapshotCallbackBuilder:\n",
    "    \"\"\"Callback builder for snapshot ensemble training of a model.\n",
    "    Creates a list of callbacks, which are provided when training a model\n",
    "    so as to save the model weights at certain epochs, and then sharply\n",
    "    increase the learning rate.\n",
    "    \"\"\"\n",
    "\n",
    "    def __init__(self, nb_epochs, nb_snapshots, init_lr=0.1, min_lr=5e-6, damp=False, offset=0):\n",
    "        \"\"\"\n",
    "        Initialize a snapshot callback builder.\n",
    "        # Arguments:\n",
    "            nb_epochs: total number of epochs that the model will be trained for.\n",
    "            nb_snapshots: number of times the weights of the model will be saved.\n",
    "            init_lr: initial learning rate\n",
    "        \"\"\"\n",
    "        self.T = nb_epochs\n",
    "        self.M = nb_snapshots\n",
    "        self.alpha_zero = init_lr\n",
    "        self.alpha_min  = min_lr\n",
    "        self.damp       = damp\n",
    "        self.offset     = offset\n",
    "\n",
    "    def get_callbacks(self, model_prefix='Model'):\n",
    "        \"\"\"\n",
    "        Creates a list of callbacks that can be used during training to create a\n",
    "        snapshot ensemble of the model.\n",
    "        Args:\n",
    "            model_prefix: prefix for the filename of the weights.\n",
    "        Returns: list of 3 callbacks [ModelCheckpoint, LearningRateScheduler,\n",
    "                 SnapshotModelCheckpoint] which can be provided to the 'fit' function\n",
    "        \"\"\"\n",
    "        \n",
    "        callback_list = [LearningRateScheduler(schedule=self._cosine_anneal_schedule, verbose=1),]\n",
    "\n",
    "        return callback_list\n",
    "\n",
    "    def _cosine_anneal_schedule(self, t_):\n",
    "        t = t_ + self.offset\n",
    "        #if t<15 : return float(self.alpha_zero)\n",
    "        if self.damp and (t % (self.T // self.M))==0 and (t>0) : \n",
    "            self.alpha_zero *= self.damp\n",
    "            #self.alpha_min  *= self.damp\n",
    "        cos_inner = np.pi * (t % (self.T // self.M))  # t - 1 is used when t has 1-based indexing.\n",
    "        cos_inner /= self.T // self.M\n",
    "        cos_out = np.cos(cos_inner) + 1\n",
    "        #return max(float((self.alpha_zero-self.alpha_min) / 2 * cos_out+self.alpha_min),self.alpha_min)\n",
    "        return max(float(self.alpha_zero/2.0 * cos_out),self.alpha_min)\n",
    "    \n",
    "if 1 :\n",
    "    sn_sn = SnapshotCallbackBuilder(scbE+1, 1, scb0, scbL, offset=scbS) #, damp=0.5)\n",
    "    \n",
    "    print('using lr from %d to %d epochs' % (initial_epoch+1, epochs))\n",
    "    print([(t,sn_sn._cosine_anneal_schedule(t)) for t in range(initial_epoch+1,epochs+1)])"
   ]
  },
  {
   "cell_type": "code",
   "execution_count": null,
   "metadata": {
    "_uuid": "48421f150d60a621a640e0b57dcb7d9c9fe3d6c0"
   },
   "outputs": [],
   "source": []
  },
  {
   "cell_type": "code",
   "execution_count": null,
   "metadata": {
    "_uuid": "1a38699cadf761220c48c53f2105d027e4493613"
   },
   "outputs": [],
   "source": []
  },
  {
   "cell_type": "code",
   "execution_count": null,
   "metadata": {
    "_uuid": "66d2567fd73366426a9b349f3369b9a8701645cd"
   },
   "outputs": [],
   "source": [
    "# Build stratified folds 0..3"
   ]
  },
  {
   "cell_type": "code",
   "execution_count": 22,
   "metadata": {
    "_uuid": "779d7400883d88425b96e8a4f63d9c56795c04b7"
   },
   "outputs": [
    {
     "name": "stdout",
     "output_type": "stream",
     "text": [
      "[12885  1254  3621  1561  1858  2513  1008  2822    53    45    28  1093\n",
      "   688   537  1066    21   530   210   902  1482   172  3777   802  2965\n",
      "   322  8228   328    11]\n",
      "23047 8025\n",
      "23231 7841\n",
      "23410 7662\n",
      "23528 7544\n",
      "(4, 2)\n",
      "[[array([  247,  1024,  1869, ..., 31069, 31070, 31071])\n",
      "  array([    0,     1,     2, ..., 30586, 30785, 31004])]\n",
      " [array([    0,     1,     2, ..., 31069, 31070, 31071])\n",
      "  array([  247,  1024,  1869, ..., 30692, 30731, 30800])]\n",
      " [array([    0,     1,     2, ..., 31069, 31070, 31071])\n",
      "  array([ 3622,  4562,  5194, ..., 30284, 30929, 30936])]\n",
      " [array([    0,     1,     2, ..., 30929, 30936, 31004])\n",
      "  array([10975, 12838, 13710, ..., 31069, 31070, 31071])]]\n"
     ]
    },
    {
     "name": "stderr",
     "output_type": "stream",
     "text": [
      "/home/svyatkin/anaconda3/lib/python3.6/site-packages/sklearn/model_selection/_split.py:605: Warning: The least populated class in y has only 1 members, which is too few. The minimum number of members in any class cannot be less than n_splits=4.\n",
      "  % (min_groups, self.n_splits)), Warning)\n"
     ]
    }
   ],
   "source": [
    "if 1 :\n",
    "    orderY = (-Y.sum(axis=0)).argsort()\n",
    "    classY = np.zeros((Y.shape[0]), dtype=np.uint64)\n",
    "    classZ = np.packbits(Y.reshape((len(Y),4,7)).astype(bool),axis=-1).astype(np.uint64).squeeze()\n",
    "    classY[:] = classZ[:,0]+classZ[:,1]*256+classZ[:,2]*256*256+classZ[:,3]*256*256*256\n",
    "    #print(classZ.shape, classZ[:4], classY[:4])\n",
    "    #for ii,yy in enumerate(orderY) :\n",
    "    #    classY[np.logical_and(all_true,Y[:,yy])] = ii+1\n",
    "        \n",
    "    print(Y.sum(axis=0).astype(np.uint16))\n",
    "    \n",
    "    #print(Y[all_true].sum(axis=0).astype(np.uint16))\n",
    "    \n",
    "    from sklearn.model_selection import StratifiedKFold\n",
    "    cc     = classY #[classY>0]\n",
    "    folds  = []\n",
    "    skf = StratifiedKFold(n_splits=4)\n",
    "    for xftrain, xftest in skf.split(cc, cc):\n",
    "        print(\"%s %s\" % (len(xftrain), len(xftest)))\n",
    "        folds.append([xftrain,xftest])\n",
    "    folds = np.array(folds)\n",
    "    print(folds.shape)\n",
    "    print(folds)\n",
    "    np.save(os.path.join(dirSave,'train-folds.npy'),folds)\n",
    "    \n",
    "else :\n",
    "    folds = np.load(os.path.join(dirSave,'train-folds.npy'))\n",
    "    print(datetime.datetime.now(), folds.shape)\n",
    "    #ff     = np.zeros(cc.shape,dtype=np.uint8)\n",
    "    #ff[fftrain] = 1\n",
    "    #ff[fftest]  = 2\n",
    "    #folds     = np.zeros((Y.shape[0]), dtype=np.uint8)\n",
    "    #folds[all_true] = ff\n",
    "    #print(folds[:50], folds[all_true].shape, ff.shape)"
   ]
  },
  {
   "cell_type": "code",
   "execution_count": null,
   "metadata": {
    "_uuid": "7ccd5fe07a8ec69a64041d9a294c3045c36d0d84"
   },
   "outputs": [],
   "source": []
  },
  {
   "cell_type": "code",
   "execution_count": null,
   "metadata": {
    "_uuid": "a341a4c333c492f947a15240f347bd5a227e2bcc"
   },
   "outputs": [],
   "source": [
    "# Small auxilar function"
   ]
  },
  {
   "cell_type": "code",
   "execution_count": 23,
   "metadata": {
    "_uuid": "75c520eb8abc14df43bd6e2a276fa21d20698322",
    "scrolled": false
   },
   "outputs": [],
   "source": [
    "def ModelLayerName(model) :\n",
    "    for ii,ll in enumerate(model.layers) :\n",
    "        print(ii, ll.trainable, ll.name)\n",
    "        \n",
    "def ModelFreeze(model, nLayers, trainOK) :\n",
    "    for nn in nLayers :\n",
    "        model.layers[nn].trainable = trainOK\n",
    "        #print(nn,model.layers[nn].name)\n",
    "    print('freeze: ',len(nLayers),' layers')\n",
    "        \n",
    "def ModelUnFreeze(model) :\n",
    "    for ll in model.layers : ll.trainable = True"
   ]
  },
  {
   "cell_type": "code",
   "execution_count": null,
   "metadata": {
    "_uuid": "d25725ee704a5da6919e441384b8a8a0f8f88edd"
   },
   "outputs": [],
   "source": []
  },
  {
   "cell_type": "code",
   "execution_count": null,
   "metadata": {
    "_uuid": "4efd65c05ad119c98fd95344148d322d60880b41"
   },
   "outputs": [],
   "source": [
    "# Main training cycle"
   ]
  },
  {
   "cell_type": "code",
   "execution_count": 24,
   "metadata": {
    "_uuid": "12e356b973db92547acb7305a2e5530a2fcce426",
    "scrolled": false
   },
   "outputs": [
    {
     "name": "stdout",
     "output_type": "stream",
     "text": [
      "2018-12-08 13:24:29.666261 \n",
      "aug True : size before 23410 23410\n",
      "aug True : size after  29012 29012\n",
      "iFiles=116048 iPicts=29012 iBatches=1814 last batch=4\n",
      "iFiles=30648 iPicts=7662 iBatches=479 last batch=14\n",
      "../input/protein-work-data-mm1/X-GAPCVXX-384x384x4-F2-L5XXX-W-A-0-20-2018-12-08-12-55-55.hdf5\n",
      "GAPCVXX-384x384x4-F2-L5XXX-W-A-1-40\n",
      "Epoch 2/40\n",
      "\n",
      "Epoch 00002: LearningRateScheduler reducing learning rate to 0.0009993370449424153.\n",
      " - 669s - loss: 0.8957 - binary_accuracy: 0.9176 - f1: 0.2238 - val_loss: 0.1480 - val_binary_accuracy: 0.9249 - val_f1: 0.2179\n",
      "\n",
      "Epoch 00002: val_f1 improved from -inf to 0.21794, saving model to ../working/F-GAPCVXX-384x384x4-F2-L5XXX-W-A-1-40-val_f1-best.hdf5\n",
      "\n",
      "Epoch 00002: val_loss improved from inf to 0.14801, saving model to ../working/F-GAPCVXX-384x384x4-F2-L5XXX-W-A-1-40-val_loss-best.hdf5\n",
      "Epoch 3/40\n",
      "\n",
      "Epoch 00003: LearningRateScheduler reducing learning rate to 0.0009973499378072945.\n",
      " - 651s - loss: 0.8834 - binary_accuracy: 0.9104 - f1: 0.2292 - val_loss: 0.1487 - val_binary_accuracy: 0.9164 - val_f1: 0.2107\n",
      "\n",
      "Epoch 00003: val_f1 did not improve from 0.21794\n",
      "\n",
      "Epoch 00003: val_loss did not improve from 0.14801\n",
      "Epoch 4/40\n",
      "\n",
      "Epoch 00004: LearningRateScheduler reducing learning rate to 0.0009940439480455386.\n",
      " - 650s - loss: 0.8741 - binary_accuracy: 0.9020 - f1: 0.2281 - val_loss: 0.1483 - val_binary_accuracy: 0.9144 - val_f1: 0.2191\n",
      "\n",
      "Epoch 00004: val_f1 improved from 0.21794 to 0.21908, saving model to ../working/F-GAPCVXX-384x384x4-F2-L5XXX-W-A-1-40-val_f1-best.hdf5\n",
      "\n",
      "Epoch 00004: val_loss did not improve from 0.14801\n",
      "Epoch 5/40\n",
      "\n",
      "Epoch 00005: LearningRateScheduler reducing learning rate to 0.000989427842547679.\n",
      " - 647s - loss: 0.8698 - binary_accuracy: 0.8960 - f1: 0.2297 - val_loss: 0.1442 - val_binary_accuracy: 0.9142 - val_f1: 0.2449\n",
      "\n",
      "Epoch 00005: val_f1 improved from 0.21908 to 0.24491, saving model to ../working/F-GAPCVXX-384x384x4-F2-L5XXX-W-A-1-40-val_f1-best.hdf5\n",
      "\n",
      "Epoch 00005: val_loss improved from 0.14801 to 0.14418, saving model to ../working/F-GAPCVXX-384x384x4-F2-L5XXX-W-A-1-40-val_loss-best.hdf5\n",
      "Epoch 6/40\n",
      "\n",
      "Epoch 00006: LearningRateScheduler reducing learning rate to 0.0009835138623956602.\n",
      " - 653s - loss: 0.8659 - binary_accuracy: 0.8883 - f1: 0.2319 - val_loss: 0.1477 - val_binary_accuracy: 0.8990 - val_f1: 0.2216\n",
      "\n",
      "Epoch 00006: val_f1 did not improve from 0.24491\n",
      "\n",
      "Epoch 00006: val_loss did not improve from 0.14418\n",
      "Epoch 7/40\n",
      "\n",
      "Epoch 00007: LearningRateScheduler reducing learning rate to 0.0009763176904016913.\n",
      " - 654s - loss: 0.8634 - binary_accuracy: 0.8861 - f1: 0.2328 - val_loss: 0.1479 - val_binary_accuracy: 0.9031 - val_f1: 0.2180\n",
      "\n",
      "Epoch 00007: val_f1 did not improve from 0.24491\n",
      "\n",
      "Epoch 00007: val_loss did not improve from 0.14418\n",
      "Epoch 8/40\n",
      "\n",
      "Epoch 00008: LearningRateScheduler reducing learning rate to 0.0009678584095202469.\n",
      " - 649s - loss: 0.8605 - binary_accuracy: 0.8840 - f1: 0.2341 - val_loss: 0.1451 - val_binary_accuracy: 0.9128 - val_f1: 0.2389\n",
      "\n",
      "Epoch 00008: val_f1 did not improve from 0.24491\n",
      "\n",
      "Epoch 00008: val_loss did not improve from 0.14418\n",
      "Epoch 9/40\n",
      "\n",
      "Epoch 00009: LearningRateScheduler reducing learning rate to 0.0009581584522435024.\n",
      " - 651s - loss: 0.8602 - binary_accuracy: 0.8807 - f1: 0.2329 - val_loss: 0.1429 - val_binary_accuracy: 0.9141 - val_f1: 0.2518\n",
      "\n",
      "Epoch 00009: val_f1 improved from 0.24491 to 0.25181, saving model to ../working/F-GAPCVXX-384x384x4-F2-L5XXX-W-A-1-40-val_f1-best.hdf5\n",
      "\n",
      "Epoch 00009: val_loss improved from 0.14418 to 0.14294, saving model to ../working/F-GAPCVXX-384x384x4-F2-L5XXX-W-A-1-40-val_loss-best.hdf5\n",
      "Epoch 10/40\n",
      "\n",
      "Epoch 00010: LearningRateScheduler reducing learning rate to 0.0009472435411143978.\n",
      " - 647s - loss: 0.8563 - binary_accuracy: 0.8826 - f1: 0.2356 - val_loss: 0.1437 - val_binary_accuracy: 0.9086 - val_f1: 0.2463\n",
      "\n",
      "Epoch 00010: val_f1 did not improve from 0.25181\n",
      "\n",
      "Epoch 00010: val_loss did not improve from 0.14294\n",
      "Epoch 11/40\n",
      "\n",
      "Epoch 00011: LearningRateScheduler reducing learning rate to 0.0009351426205150777.\n",
      " - 647s - loss: 0.8562 - binary_accuracy: 0.8846 - f1: 0.2363 - val_loss: 0.1458 - val_binary_accuracy: 0.9048 - val_f1: 0.2317\n",
      "\n",
      "Epoch 00011: val_f1 did not improve from 0.25181\n",
      "\n",
      "Epoch 00011: val_loss did not improve from 0.14294\n",
      "Epoch 12/40\n",
      "\n",
      "Epoch 00012: LearningRateScheduler reducing learning rate to 0.0009218877799115928.\n",
      " - 653s - loss: 0.8548 - binary_accuracy: 0.8870 - f1: 0.2384 - val_loss: 0.1438 - val_binary_accuracy: 0.9063 - val_f1: 0.2480\n",
      "\n",
      "Epoch 00012: val_f1 did not improve from 0.25181\n",
      "\n",
      "Epoch 00012: val_loss did not improve from 0.14294\n",
      "Epoch 13/40\n",
      "\n",
      "Epoch 00013: LearningRateScheduler reducing learning rate to 0.0009075141687584057.\n",
      " - 661s - loss: 0.8540 - binary_accuracy: 0.8847 - f1: 0.2394 - val_loss: 0.1437 - val_binary_accuracy: 0.9053 - val_f1: 0.2476\n",
      "\n",
      "Epoch 00013: val_f1 did not improve from 0.25181\n",
      "\n",
      "Epoch 00013: val_loss did not improve from 0.14294\n",
      "Epoch 14/40\n",
      "\n",
      "Epoch 00014: LearningRateScheduler reducing learning rate to 0.0008920599032883552.\n",
      " - 659s - loss: 0.8498 - binary_accuracy: 0.8861 - f1: 0.2422 - val_loss: 0.1435 - val_binary_accuracy: 0.9032 - val_f1: 0.2494\n",
      "\n",
      "Epoch 00014: val_f1 did not improve from 0.25181\n",
      "\n",
      "Epoch 00014: val_loss did not improve from 0.14294\n",
      "Epoch 15/40\n",
      "\n",
      "Epoch 00015: LearningRateScheduler reducing learning rate to 0.0008755659654352599.\n",
      " - 646s - loss: 0.8509 - binary_accuracy: 0.8896 - f1: 0.2413 - val_loss: 0.1472 - val_binary_accuracy: 0.9062 - val_f1: 0.2220\n",
      "\n",
      "Epoch 00015: val_f1 did not improve from 0.25181\n",
      "\n",
      "Epoch 00015: val_loss did not improve from 0.14294\n",
      "Epoch 16/40\n",
      "\n",
      "Epoch 00016: LearningRateScheduler reducing learning rate to 0.0008580760941571966.\n",
      " - 647s - loss: 0.8486 - binary_accuracy: 0.8890 - f1: 0.2430 - val_loss: 0.1430 - val_binary_accuracy: 0.9158 - val_f1: 0.2507\n",
      "\n",
      "Epoch 00016: val_f1 did not improve from 0.25181\n",
      "\n",
      "Epoch 00016: val_loss did not improve from 0.14294\n",
      "Epoch 17/40\n",
      "\n",
      "Epoch 00017: LearningRateScheduler reducing learning rate to 0.0008396366694486466.\n",
      " - 654s - loss: 0.8469 - binary_accuracy: 0.8915 - f1: 0.2440 - val_loss: 0.1475 - val_binary_accuracy: 0.9093 - val_f1: 0.2238\n",
      "\n",
      "Epoch 00017: val_f1 did not improve from 0.25181\n",
      "\n",
      "Epoch 00017: val_loss did not improve from 0.14294\n",
      "Epoch 18/40\n",
      "\n",
      "Epoch 00018: LearningRateScheduler reducing learning rate to 0.0008202965893490875.\n",
      " - 648s - loss: 0.8459 - binary_accuracy: 0.8916 - f1: 0.2439 - val_loss: 0.1438 - val_binary_accuracy: 0.9194 - val_f1: 0.2429\n",
      "\n",
      "Epoch 00018: val_f1 did not improve from 0.25181\n",
      "\n",
      "Epoch 00018: val_loss did not improve from 0.14294\n",
      "Epoch 19/40\n",
      "\n",
      "Epoch 00019: LearningRateScheduler reducing learning rate to 0.0008001071402741842.\n",
      " - 647s - loss: 0.8468 - binary_accuracy: 0.8948 - f1: 0.2447 - val_loss: 0.1426 - val_binary_accuracy: 0.9209 - val_f1: 0.2512\n",
      "\n",
      "Epoch 00019: val_f1 did not improve from 0.25181\n",
      "\n",
      "Epoch 00019: val_loss improved from 0.14294 to 0.14262, saving model to ../working/F-GAPCVXX-384x384x4-F2-L5XXX-W-A-1-40-val_loss-best.hdf5\n",
      "Epoch 20/40\n",
      "\n",
      "Epoch 00020: LearningRateScheduler reducing learning rate to 0.0007791218610134325.\n",
      " - 648s - loss: 0.8438 - binary_accuracy: 0.8955 - f1: 0.2477 - val_loss: 0.1445 - val_binary_accuracy: 0.9242 - val_f1: 0.2402\n",
      "\n",
      "Epoch 00020: val_f1 did not improve from 0.25181\n",
      "\n",
      "Epoch 00020: val_loss did not improve from 0.14262\n",
      "Epoch 21/40\n",
      "\n",
      "Epoch 00021: LearningRateScheduler reducing learning rate to 0.0007573964007549155.\n",
      " - 649s - loss: 0.8428 - binary_accuracy: 0.8977 - f1: 0.2479 - val_loss: 0.1433 - val_binary_accuracy: 0.9115 - val_f1: 0.2494\n",
      "\n",
      "Epoch 00021: val_f1 did not improve from 0.25181\n",
      "\n",
      "Epoch 00021: val_loss did not improve from 0.14262\n",
      "Epoch 22/40\n",
      "\n",
      "Epoch 00022: LearningRateScheduler reducing learning rate to 0.00073498837151366.\n",
      " - 654s - loss: 0.8423 - binary_accuracy: 0.8984 - f1: 0.2479 - val_loss: 0.1462 - val_binary_accuracy: 0.9062 - val_f1: 0.2344\n",
      "\n",
      "Epoch 00022: val_f1 did not improve from 0.25181\n",
      "\n",
      "Epoch 00022: val_loss did not improve from 0.14262\n",
      "Epoch 23/40\n",
      "\n",
      "Epoch 00023: LearningRateScheduler reducing learning rate to 0.0007119571953549304.\n",
      " - 646s - loss: 0.8417 - binary_accuracy: 0.8998 - f1: 0.2494 - val_loss: 0.1426 - val_binary_accuracy: 0.9244 - val_f1: 0.2542\n",
      "\n",
      "Epoch 00023: val_f1 improved from 0.25181 to 0.25424, saving model to ../working/F-GAPCVXX-384x384x4-F2-L5XXX-W-A-1-40-val_f1-best.hdf5\n",
      "\n",
      "Epoch 00023: val_loss improved from 0.14262 to 0.14260, saving model to ../working/F-GAPCVXX-384x384x4-F2-L5XXX-W-A-1-40-val_loss-best.hdf5\n"
     ]
    },
    {
     "name": "stdout",
     "output_type": "stream",
     "text": [
      "Epoch 24/40\n",
      "\n",
      "Epoch 00024: LearningRateScheduler reducing learning rate to 0.0006883639468175926.\n",
      " - 650s - loss: 0.8396 - binary_accuracy: 0.9013 - f1: 0.2511 - val_loss: 0.1449 - val_binary_accuracy: 0.9197 - val_f1: 0.2347\n",
      "\n",
      "Epoch 00024: val_f1 did not improve from 0.25424\n",
      "\n",
      "Epoch 00024: val_loss did not improve from 0.14260\n",
      "Epoch 25/40\n",
      "\n",
      "Epoch 00025: LearningRateScheduler reducing learning rate to 0.0006642711909554174.\n",
      " - 665s - loss: 0.8395 - binary_accuracy: 0.9021 - f1: 0.2516 - val_loss: 0.1419 - val_binary_accuracy: 0.9284 - val_f1: 0.2550\n",
      "\n",
      "Epoch 00025: val_f1 improved from 0.25424 to 0.25503, saving model to ../working/F-GAPCVXX-384x384x4-F2-L5XXX-W-A-1-40-val_f1-best.hdf5\n",
      "\n",
      "Epoch 00025: val_loss improved from 0.14260 to 0.14193, saving model to ../working/F-GAPCVXX-384x384x4-F2-L5XXX-W-A-1-40-val_loss-best.hdf5\n",
      "Epoch 26/40\n",
      "\n",
      "Epoch 00026: LearningRateScheduler reducing learning rate to 0.0006397428174258048.\n",
      " - 666s - loss: 0.8378 - binary_accuracy: 0.9033 - f1: 0.2522 - val_loss: 0.1425 - val_binary_accuracy: 0.9308 - val_f1: 0.2502\n",
      "\n",
      "Epoch 00026: val_f1 did not improve from 0.25503\n",
      "\n",
      "Epoch 00026: val_loss did not improve from 0.14193\n",
      "Epoch 27/40\n",
      "\n",
      "Epoch 00027: LearningRateScheduler reducing learning rate to 0.0006148438710658978.\n",
      " - 667s - loss: 0.8372 - binary_accuracy: 0.9058 - f1: 0.2531 - val_loss: 0.1407 - val_binary_accuracy: 0.9344 - val_f1: 0.2612\n",
      "\n",
      "Epoch 00027: val_f1 improved from 0.25503 to 0.26119, saving model to ../working/F-GAPCVXX-384x384x4-F2-L5XXX-W-A-1-40-val_f1-best.hdf5\n",
      "\n",
      "Epoch 00027: val_loss improved from 0.14193 to 0.14068, saving model to ../working/F-GAPCVXX-384x384x4-F2-L5XXX-W-A-1-40-val_loss-best.hdf5\n",
      "Epoch 28/40\n",
      "\n",
      "Epoch 00028: LearningRateScheduler reducing learning rate to 0.0005896403794053679.\n",
      " - 661s - loss: 0.8354 - binary_accuracy: 0.9080 - f1: 0.2556 - val_loss: 0.1419 - val_binary_accuracy: 0.9349 - val_f1: 0.2570\n",
      "\n",
      "Epoch 00028: val_f1 did not improve from 0.26119\n",
      "\n",
      "Epoch 00028: val_loss did not improve from 0.14068\n",
      "Epoch 29/40\n",
      "\n",
      "Epoch 00029: LearningRateScheduler reducing learning rate to 0.0005641991775732756.\n",
      " - 656s - loss: 0.8359 - binary_accuracy: 0.9099 - f1: 0.2557 - val_loss: 0.1421 - val_binary_accuracy: 0.9313 - val_f1: 0.2566\n",
      "\n",
      "Epoch 00029: val_f1 did not improve from 0.26119\n",
      "\n",
      "Epoch 00029: val_loss did not improve from 0.14068\n",
      "Epoch 30/40\n",
      "\n",
      "Epoch 00030: LearningRateScheduler reducing learning rate to 0.0005385877310633231.\n",
      " - 655s - loss: 0.8351 - binary_accuracy: 0.9107 - f1: 0.2562 - val_loss: 0.1418 - val_binary_accuracy: 0.9339 - val_f1: 0.2565\n",
      "\n",
      "Epoch 00030: val_f1 did not improve from 0.26119\n",
      "\n",
      "Epoch 00030: val_loss did not improve from 0.14068\n",
      "Epoch 31/40\n",
      "\n",
      "Epoch 00031: LearningRateScheduler reducing learning rate to 0.0005128739568274944.\n",
      " - 650s - loss: 0.8333 - binary_accuracy: 0.9114 - f1: 0.2581 - val_loss: 0.1415 - val_binary_accuracy: 0.9346 - val_f1: 0.2562\n",
      "\n",
      "Epoch 00031: val_f1 did not improve from 0.26119\n",
      "\n",
      "Epoch 00031: val_loss did not improve from 0.14068\n",
      "Epoch 32/40\n",
      "\n",
      "Epoch 00032: LearningRateScheduler reducing learning rate to 0.00048712604317250577.\n",
      " - 650s - loss: 0.8322 - binary_accuracy: 0.9114 - f1: 0.2570 - val_loss: 0.1432 - val_binary_accuracy: 0.9363 - val_f1: 0.2469\n",
      "\n",
      "Epoch 00032: val_f1 did not improve from 0.26119\n",
      "\n",
      "Epoch 00032: val_loss did not improve from 0.14068\n",
      "Epoch 33/40\n",
      "\n",
      "Epoch 00033: LearningRateScheduler reducing learning rate to 0.00046141226893667693.\n",
      " - 650s - loss: 0.8320 - binary_accuracy: 0.9144 - f1: 0.2588 - val_loss: 0.1412 - val_binary_accuracy: 0.9390 - val_f1: 0.2582\n",
      "\n",
      "Epoch 00033: val_f1 did not improve from 0.26119\n",
      "\n",
      "Epoch 00033: val_loss did not improve from 0.14068\n",
      "Epoch 34/40\n",
      "\n",
      "Epoch 00034: LearningRateScheduler reducing learning rate to 0.00043580082242672456.\n",
      " - 651s - loss: 0.8311 - binary_accuracy: 0.9142 - f1: 0.2587 - val_loss: 0.1412 - val_binary_accuracy: 0.9377 - val_f1: 0.2574\n",
      "\n",
      "Epoch 00034: val_f1 did not improve from 0.26119\n",
      "\n",
      "Epoch 00034: val_loss did not improve from 0.14068\n",
      "Epoch 35/40\n",
      "\n",
      "Epoch 00035: LearningRateScheduler reducing learning rate to 0.00041035962059463217.\n",
      " - 650s - loss: 0.8298 - binary_accuracy: 0.9173 - f1: 0.2606 - val_loss: 0.1408 - val_binary_accuracy: 0.9390 - val_f1: 0.2612\n",
      "\n",
      "Epoch 00035: val_f1 improved from 0.26119 to 0.26120, saving model to ../working/F-GAPCVXX-384x384x4-F2-L5XXX-W-A-1-40-val_f1-best.hdf5\n",
      "\n",
      "Epoch 00035: val_loss did not improve from 0.14068\n",
      "Epoch 36/40\n",
      "\n",
      "Epoch 00036: LearningRateScheduler reducing learning rate to 0.00038515612893410227.\n",
      " - 649s - loss: 0.8298 - binary_accuracy: 0.9181 - f1: 0.2608 - val_loss: 0.1403 - val_binary_accuracy: 0.9409 - val_f1: 0.2627\n",
      "\n",
      "Epoch 00036: val_f1 improved from 0.26120 to 0.26274, saving model to ../working/F-GAPCVXX-384x384x4-F2-L5XXX-W-A-1-40-val_f1-best.hdf5\n",
      "\n",
      "Epoch 00036: val_loss improved from 0.14068 to 0.14033, saving model to ../working/F-GAPCVXX-384x384x4-F2-L5XXX-W-A-1-40-val_loss-best.hdf5\n",
      "Epoch 37/40\n",
      "\n",
      "Epoch 00037: LearningRateScheduler reducing learning rate to 0.0003602571825741953.\n",
      " - 657s - loss: 0.8291 - binary_accuracy: 0.9186 - f1: 0.2620 - val_loss: 0.1411 - val_binary_accuracy: 0.9386 - val_f1: 0.2576\n",
      "\n",
      "Epoch 00037: val_f1 did not improve from 0.26274\n",
      "\n",
      "Epoch 00037: val_loss did not improve from 0.14033\n",
      "Epoch 38/40\n",
      "\n",
      "Epoch 00038: LearningRateScheduler reducing learning rate to 0.00033572880904458267.\n",
      " - 673s - loss: 0.8290 - binary_accuracy: 0.9189 - f1: 0.2617 - val_loss: 0.1407 - val_binary_accuracy: 0.9387 - val_f1: 0.2592\n",
      "\n",
      "Epoch 00038: val_f1 did not improve from 0.26274\n",
      "\n",
      "Epoch 00038: val_loss did not improve from 0.14033\n",
      "Epoch 39/40\n",
      "\n",
      "Epoch 00039: LearningRateScheduler reducing learning rate to 0.0003116360531824075.\n",
      " - 674s - loss: 0.8271 - binary_accuracy: 0.9201 - f1: 0.2630 - val_loss: 0.1413 - val_binary_accuracy: 0.9430 - val_f1: 0.2548\n",
      "\n",
      "Epoch 00039: val_f1 did not improve from 0.26274\n",
      "\n",
      "Epoch 00039: val_loss did not improve from 0.14033\n",
      "Epoch 40/40\n",
      "\n",
      "Epoch 00040: LearningRateScheduler reducing learning rate to 0.0002880428046450697.\n",
      " - 682s - loss: 0.8276 - binary_accuracy: 0.9220 - f1: 0.2642 - val_loss: 0.1404 - val_binary_accuracy: 0.9415 - val_f1: 0.2622\n",
      "\n",
      "Epoch 00040: val_f1 did not improve from 0.26274\n",
      "\n",
      "Epoch 00040: val_loss did not improve from 0.14033\n",
      "2018-12-08 20:30:09.885736\n"
     ]
    }
   ],
   "source": [
    "if 1 : \n",
    "    \n",
    "    try    : del  xxx_train0, yyy_train0, xxx_valid0, yyy_valid0\n",
    "    except : pass\n",
    "    \n",
    "    print(datetime.datetime.now(), ('debug mode' if okeyDebug else ''))\n",
    "\n",
    "    verbose       =    2\n",
    "    \n",
    "    #################################\n",
    "\n",
    "    metric      = 'binary_accuracy'\n",
    "    metric      = 'f1'\n",
    "\n",
    "    #~~~~~~~~~~~~~~~~~~~~~~~~~~~~~~\n",
    "\n",
    "    #for iFold in range(folds.shape[0]) :\n",
    "    for iFold in [2,] :\n",
    "    \n",
    "        #for ic in range(4) :\n",
    "        #iFold = 0\n",
    "        \n",
    "        if iFold<0 : continue;\n",
    "            \n",
    "        nntrain, nnvalid = folds[iFold]\n",
    "        \n",
    "        \n",
    "        okeyWeights = True\n",
    "        \n",
    "        #aug = False,\n",
    "        aug = [27,15,10,9,8]*4+[20,17,24,26]+[16,13,12,22,18]+[8,14,11]\n",
    "        #aug=[6,8,9,10,11,12,13,15,16,17,18,20,22,24,26,27]\n",
    "        \n",
    "        tgt = BobaGenerator(dirTrain, np.array(fftrain)[nntrain], Y[nntrain], batch_size, \n",
    "                            shape_out, \n",
    "                            weightsOK=okeyWeights, \n",
    "                            aug = aug,\n",
    "                            debug=okeyDebug,\n",
    "                            printOK=True)\n",
    "        vgt = BobaGenerator(dirTrain, np.array(fftrain)[nnvalid], Y[nnvalid], batch_size, \n",
    "                            shape_out, \n",
    "                            weightsOK=okeyWeights,\n",
    "                            debug=okeyDebug,\n",
    "                            printOK=True)\n",
    "        \n",
    "        suffix = ''\n",
    "        suffix += '-L5'\n",
    "        suffix += ('-SE' if okeySE else '')+('-D' if okeyDebug else 'XXX')+('-W' if okeyWeights else '')\n",
    "        suffix += ('-A'  if aug    else '')\n",
    "        suffix += '-%d-%d' % (initial_epoch,epochs)\n",
    "        \n",
    "        xxx_train0, yyy_train0,_ = tgt[0]\n",
    "        \n",
    "        \n",
    "        \n",
    "        \n",
    "    \n",
    "        if initial_epoch==0 :\n",
    "            K.clear_session()\n",
    "            model10 = createNet(xxx_train0.shape[1:],yyy_train0.shape[-1],\n",
    "                                batchX=True, \n",
    "                                dim=8, depth=4, \n",
    "                                acti=None,\n",
    "                                dropout=False) #0.20)\n",
    "        else :\n",
    "            K.clear_session()\n",
    "#             fm = os.path.join(dirModelLoad,'X-GAPRSXX-256x256x4-F2-G5A75AF8-L5-SE-XXX-2018-12-01-23-39-50.hdf5');\n",
    "#             fm = os.path.join(dirModelLoad,'X-GAPCVXX-384x384x4.hdf5');\n",
    "            fm = modelLast\n",
    "            print(fm)\n",
    "            model10 = modelLoad(fm, customs={'f1':f1,'lossloss':lossloss})\n",
    "            ModelUnFreeze(model10)\n",
    "            \n",
    "            model10.compile(loss=lossloss, optimizer='Adamax', metrics=['binary_accuracy',f1])\n",
    "\n",
    "        pshape     = 'x'.join([str(temp) for temp in xxx_train0.shape[1:]])\n",
    "        prefix     = model10.name + '-' + pshape +'-F'+str(iFold)\n",
    "        \n",
    "        prefix += suffix; print(prefix)\n",
    "\n",
    "        #if 1 : continue\n",
    "\n",
    "        filepath1  = os.path.join(dirModels,\"F-\"+prefix+\"-val_loss-best.hdf5\")\n",
    "        filepath   = os.path.join(dirModels,\"F-\"+prefix+\"-val_\"+metric  + \"-best.hdf5\")\n",
    "\n",
    "        checkpoint   = ModelCheckpoint(filepath,   monitor='val_'+metric,   \n",
    "                                       verbose=1, save_best_only=True, mode='max')\n",
    "\n",
    "        checkpoint1  = ModelCheckpoint(filepath1,  monitor='val_loss',   \n",
    "                                       verbose=1, save_best_only=True, mode='min')\n",
    "        \n",
    "        scb            = SnapshotCallbackBuilder(scbE+1, 1, scb0, scbL, offset=scbS) #, damp=0.5)\n",
    "\n",
    "        hist1  = model10.fit_generator(tgt, steps_per_epoch=len(tgt),\n",
    "                                       validation_data=vgt, validation_steps=len(vgt),\n",
    "                                       epochs=epochs, initial_epoch = initial_epoch,\n",
    "                                       callbacks=[checkpoint, checkpoint1,] + scb.get_callbacks(),\n",
    "                                       max_queue_size = 10*10, #################################\n",
    "                                       verbose=verbose)\n",
    "\n",
    "        if 1 :\n",
    "            \n",
    "            ModelUnFreeze(model10)\n",
    "            filepath = os.path.join(dirModels,\n",
    "                                    \"X-\"+prefix+\"-\"+datetime.datetime.now().strftime(\"%Y-%m-%d-%H-%M-%S\")+\".hdf5\")\n",
    "            model10.save(filepath)\n",
    "\n",
    "    print(datetime.datetime.now())"
   ]
  },
  {
   "cell_type": "code",
   "execution_count": null,
   "metadata": {
    "_uuid": "2774ffb55372515e28025cdabdbe76d2636b5996"
   },
   "outputs": [],
   "source": [
    "if 0 :\n",
    "    ModelUnFreeze(model10)\n",
    "    filepath = os.path.join(dirModels,\n",
    "                            \"X-\"+prefix+\"-\"+datetime.datetime.now().strftime(\"%Y-%m-%d-%H-%M-%S\")+\".hdf5\")\n",
    "    model10.save(filepath)"
   ]
  },
  {
   "cell_type": "code",
   "execution_count": null,
   "metadata": {
    "_uuid": "51ef33a174081d2e1358cbe6954ecead7b61b278"
   },
   "outputs": [],
   "source": [
    "# Ceterum censeo Carthaginem esse delendam"
   ]
  },
  {
   "cell_type": "code",
   "execution_count": null,
   "metadata": {
    "_uuid": "232cebc4e0eaa4c4e5ab8523754578b380ac1eba"
   },
   "outputs": [],
   "source": []
  },
  {
   "cell_type": "code",
   "execution_count": null,
   "metadata": {
    "_uuid": "02a06021a852c97717dcd50c83cb44dc7a2de490"
   },
   "outputs": [],
   "source": [
    "!ls /kaggle/working"
   ]
  },
  {
   "cell_type": "code",
   "execution_count": null,
   "metadata": {
    "_uuid": "eff314ccc1cbeec9c955a3175464b8d06f911547"
   },
   "outputs": [],
   "source": []
  },
  {
   "cell_type": "code",
   "execution_count": null,
   "metadata": {
    "_uuid": "63c9d134312a3fb5b8295000e87adf20b6ad6ee4"
   },
   "outputs": [],
   "source": [
    "# The End. \n",
    "# To be contunue ..."
   ]
  }
 ],
 "metadata": {
  "kernelspec": {
   "display_name": "Python 3",
   "language": "python",
   "name": "python3"
  },
  "language_info": {
   "codemirror_mode": {
    "name": "ipython",
    "version": 3
   },
   "file_extension": ".py",
   "mimetype": "text/x-python",
   "name": "python",
   "nbconvert_exporter": "python",
   "pygments_lexer": "ipython3",
   "version": "3.6.5"
  }
 },
 "nbformat": 4,
 "nbformat_minor": 1
}
